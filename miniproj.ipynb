{
 "cells": [
  {
   "cell_type": "markdown",
   "metadata": {},
   "source": [
    "# Mini Project II \n",
    "\n",
    "## Motivation\n",
    "Which API has a better coverage of the area?\n",
    "- tough to have a hypothesis here because in my world, neither are used!\n",
    "- assumption is for FourSquare to be better since it's more about location and business details, YELP is subjective (& why it failed?)\n",
    "\n",
    "Choose the top 10 POIs based on the popularity (number of reviews or average rating)\n",
    "\n",
    "## Project Flow \n",
    "- What steps does the project have?\n",
    "1) planning - including project definitions\n",
    "2) get api results - FourSquare, Yelp\n",
    "3) Use pandas to make Data Frame\n",
    "4) Design DB structure\n",
    "5) Make DB\n",
    "6) Sort results for FourSquare, Yelp\n",
    "7) According to definitions, which has better coverage?\n",
    "8) Takeaways, Learnings, Risks, Opportunities\n",
    "\n",
    "## Task\n",
    "- For this project I need to use APIs to pull in data\n",
    "- Build database of restaurants, bars and other POIs in the area of your choice (Marda Loop)\n",
    "    - What are my POIs?\n",
    "        - can use comma separated Ids\n",
    "        - coffee shops, restaurants, nightlife *opportunity to add more POIs*\n",
    "FourSquare: CategoryId = \n",
    "food = 4d4b7105d754a06374d81259\n",
    "coffee = 4bf58dd8d48988d1e0931735\n",
    "night life spot = 4d4b7105d754a06376d81259 (same as food)\n",
    "\n",
    "Yelp: categories = \n",
    "coffee = coffee\n",
    "Restaurants = restaurants\n",
    "food = food *includes groceries*\n",
    "nightlife = nightlife\n",
    "\n",
    "- For area, can I create a box around Marda Loop like Google Maps does?\n",
    "    - Crowchild, 33rd AVE SW, 50 AVE SW, 14 St SW\n",
    "    - Pin1 = 51.023210431410085, -114.11773309036127\n",
    "    - Pin2 = 51.02317901782409, -114.0948098715688\n",
    "    - Pin3 = 51.0086636643716, -114.08572049069683\n",
    "    - Pin4 = 51.00875793457025, -114.117982798627\n",
    "    - consider instead using \"marda loop\" as single location instead of lat/longs to reduce calls \n",
    "    - marda loop no geocode, so use sing lat/long and use 1km radius\n",
    "\n",
    "FourSquare: ll = 51.016007, -114.104438, radius = 1000\n",
    "Yelp:\n",
    "\n",
    "- Once I have the data I need to create a database to store the data\n",
    "    - Lucid Chart\n",
    "\n",
    "## Approach\n",
    "- How do I define better coverage? \n",
    "    - No of businesses found/area\n",
    "    - Decided to go with a small area because I know it has a large concentration of businesses,\n",
    "        - wanted to conserve my API calls (didn't work!)\n",
    "        - isolated query to 'food and drink'\n",
    "- Rank Venues by Average Rating, .head(10)\n",
    "    - FourSquare: use Get Venue Recommendations URL, params sortByPopularity=1\n",
    "    - Yelp: use param sort_by=rating \n",
    "\n",
    "## Results\n",
    "What are the takeaways here? Big picture!\n",
    "So what? What does this mean for a Data Scientist?\n",
    "- The available data for the same questions provided some overlap, some gaps filled, some techincal issues, some bad data, some missing data\n",
    "- Therefore utilizing multiple, perhaps similar data sources for a project. Assessing data quality and the impacts that could have on your results\n",
    "- Eg. getting bad quality data from FourSquare but it is known (in Canada at least) that Yelp is a poor database due to heavily skewed information\n",
    "- However, if you know anything about reviews/ratings, you shouldn't trust it as a metric generally speaking, so it's not necessarily a great assessment of quality of API source. (But I digress) If I had more time, I would do a broader sweep of the data in each API.\n",
    "\n",
    "## Conclusion\n",
    "- Really wanted to challenge myself to think Big Picture. Very easy to get lost in the coding\n",
    "- Utilize auxilary skill sets - project management\n",
    "- Which API was my favourite? Yelp\n",
    "- What was biggest challenge? Parsing the JSON outputs. Really wish there was a more straightforward simplistic (eg software black box solution) way to get data. I can see this being a perpetual problem that I best start to get comfortable around... we know that there is so much more data being created than ever before and it is a mess. There is no one solution. There's just too much of it. That's why the world needs Data Scientists. To help clean it up, make sense of it, put it to use. To do something with it. \n"
   ]
  },
  {
   "cell_type": "markdown",
   "metadata": {},
   "source": [
    "## Set up the Jupyter!"
   ]
  },
  {
   "cell_type": "code",
   "execution_count": 1,
   "metadata": {},
   "outputs": [],
   "source": [
    "import requests\n",
    "import json\n",
    "import pandas as pd\n",
    "from IPython.display import JSON"
   ]
  },
  {
   "cell_type": "markdown",
   "metadata": {},
   "source": [
    "## Get the APIs running"
   ]
  },
  {
   "cell_type": "code",
   "execution_count": 2,
   "metadata": {},
   "outputs": [],
   "source": [
    "def get_api(url):\n",
    "    # We send the request to the API\n",
    "    res = requests.get(url)\n",
    "    # We can check if the request was successful\n",
    "    #print(res.status_code)\n",
    "    return res.json()"
   ]
  },
  {
   "cell_type": "code",
   "execution_count": 3,
   "metadata": {},
   "outputs": [
    {
     "data": {
      "application/json": {
       "meta": {
        "code": 200,
        "requestId": "6001b77be88fa633099c5bfc"
       },
       "response": {
        "groups": [
         {
          "items": [
           {
            "reasons": {
             "count": 0,
             "items": [
              {
               "reasonName": "globalInteractionReason",
               "summary": "This spot is popular",
               "type": "general"
              }
             ]
            },
            "referralId": "e-0-4b0586e8f964a520567422e3-0",
            "venue": {
             "categories": [
              {
               "icon": {
                "prefix": "https://ss3.4sqi.net/img/categories_v2/food/default_",
                "suffix": ".png"
               },
               "id": "4bf58dd8d48988d1c4941735",
               "name": "Restaurant",
               "pluralName": "Restaurants",
               "primary": true,
               "shortName": "Restaurant"
              }
             ],
             "id": "4b0586e8f964a520567422e3",
             "location": {
              "address": "2047 34th Avenue SW",
              "cc": "CA",
              "city": "Calgary",
              "country": "Canada",
              "distance": 850,
              "formattedAddress": [
               "2047 34th Avenue SW",
               "Calgary AB T2T 2C4",
               "Canada"
              ],
              "labeledLatLngs": [
               {
                "label": "display",
                "lat": 51.02307499458444,
                "lng": -114.10905909555515
               }
              ],
              "lat": 51.02307499458444,
              "lng": -114.10905909555515,
              "postalCode": "T2T 2C4",
              "state": "AB"
             },
             "name": "Original Joe's Restaurant & Bar",
             "photos": {
              "count": 0,
              "groups": []
             }
            }
           },
           {
            "reasons": {
             "count": 0,
             "items": [
              {
               "reasonName": "globalInteractionReason",
               "summary": "This spot is popular",
               "type": "general"
              }
             ]
            },
            "referralId": "e-0-596bb0569cadd94f2c5a975e-1",
            "venue": {
             "categories": [
              {
               "icon": {
                "prefix": "https://ss3.4sqi.net/img/categories_v2/food/burger_",
                "suffix": ".png"
               },
               "id": "4bf58dd8d48988d16c941735",
               "name": "Burger Joint",
               "pluralName": "Burger Joints",
               "primary": true,
               "shortName": "Burgers"
              }
             ],
             "id": "596bb0569cadd94f2c5a975e",
             "location": {
              "address": "2129 33rd St Sw",
              "cc": "CA",
              "city": "Calgary",
              "country": "Canada",
              "distance": 987,
              "formattedAddress": [
               "2129 33rd St Sw",
               "Calgary AB T2T 1Z7",
               "Canada"
              ],
              "labeledLatLngs": [
               {
                "label": "display",
                "lat": 51.023791,
                "lng": -114.111188
               }
              ],
              "lat": 51.023791,
              "lng": -114.111188,
              "postalCode": "T2T 1Z7",
              "state": "AB"
             },
             "name": "Boogies Burgers",
             "photos": {
              "count": 0,
              "groups": []
             }
            }
           },
           {
            "reasons": {
             "count": 0,
             "items": [
              {
               "reasonName": "globalInteractionReason",
               "summary": "This spot is popular",
               "type": "general"
              }
             ]
            },
            "referralId": "e-0-4bdcc1dcc79cc9287a0388e9-2",
            "venue": {
             "categories": [
              {
               "icon": {
                "prefix": "https://ss3.4sqi.net/img/categories_v2/food/sushi_",
                "suffix": ".png"
               },
               "id": "4bf58dd8d48988d1d2941735",
               "name": "Sushi Restaurant",
               "pluralName": "Sushi Restaurants",
               "primary": true,
               "shortName": "Sushi"
              }
             ],
             "id": "4bdcc1dcc79cc9287a0388e9",
             "location": {
              "address": "2009 33 Ave. SW",
              "cc": "CA",
              "city": "Calgary",
              "country": "Canada",
              "distance": 882,
              "formattedAddress": [
               "2009 33 Ave. SW",
               "Calgary AB T2T 1Z4",
               "Canada"
              ],
              "labeledLatLngs": [
               {
                "label": "display",
                "lat": 51.02370785376438,
                "lng": -114.10742621975263
               }
              ],
              "lat": 51.02370785376438,
              "lng": -114.10742621975263,
              "postalCode": "T2T 1Z4",
              "state": "AB"
             },
             "name": "Globefish",
             "photos": {
              "count": 0,
              "groups": []
             }
            }
           },
           {
            "reasons": {
             "count": 0,
             "items": [
              {
               "reasonName": "globalInteractionReason",
               "summary": "This spot is popular",
               "type": "general"
              }
             ]
            },
            "referralId": "e-0-540b2114498e7fb901fb131a-3",
            "venue": {
             "categories": [
              {
               "icon": {
                "prefix": "https://ss3.4sqi.net/img/categories_v2/food/breakfast_",
                "suffix": ".png"
               },
               "id": "4bf58dd8d48988d143941735",
               "name": "Breakfast Spot",
               "pluralName": "Breakfast Spots",
               "primary": true,
               "shortName": "Breakfast"
              }
             ],
             "id": "540b2114498e7fb901fb131a",
             "location": {
              "address": "19 - 2008 33 Ave. SW",
              "cc": "CA",
              "city": "Calgary",
              "country": "Canada",
              "distance": 931,
              "formattedAddress": [
               "19 - 2008 33 Ave. SW",
               "Calgary AB",
               "Canada"
              ],
              "labeledLatLngs": [
               {
                "label": "display",
                "lat": 51.024114,
                "lng": -114.107743
               }
              ],
              "lat": 51.024114,
              "lng": -114.107743,
              "state": "AB"
             },
             "name": "Belmont Diner",
             "photos": {
              "count": 0,
              "groups": []
             }
            }
           },
           {
            "reasons": {
             "count": 0,
             "items": [
              {
               "reasonName": "globalInteractionReason",
               "summary": "This spot is popular",
               "type": "general"
              }
             ]
            },
            "referralId": "e-0-4e2192a962e1964dbb6813db-4",
            "venue": {
             "categories": [
              {
               "icon": {
                "prefix": "https://ss3.4sqi.net/img/categories_v2/food/greek_",
                "suffix": ".png"
               },
               "id": "4bf58dd8d48988d10e941735",
               "name": "Greek Restaurant",
               "pluralName": "Greek Restaurants",
               "primary": true,
               "shortName": "Greek"
              }
             ],
             "id": "4e2192a962e1964dbb6813db",
             "location": {
              "address": "4824 16 St. SW",
              "cc": "CA",
              "city": "Calgary",
              "country": "Canada",
              "distance": 657,
              "formattedAddress": [
               "4824 16 St. SW",
               "Calgary AB",
               "Canada"
              ],
              "labeledLatLngs": [
               {
                "label": "display",
                "lat": 51.01076693641826,
                "lng": -114.1001192173661
               }
              ],
              "lat": 51.01076693641826,
              "lng": -114.1001192173661,
              "state": "AB"
             },
             "name": "Pegasus Restaurant",
             "photos": {
              "count": 0,
              "groups": []
             }
            }
           },
           {
            "reasons": {
             "count": 0,
             "items": [
              {
               "reasonName": "globalInteractionReason",
               "summary": "This spot is popular",
               "type": "general"
              }
             ]
            },
            "referralId": "e-0-4b735e50f964a5200dab2de3-5",
            "venue": {
             "categories": [
              {
               "icon": {
                "prefix": "https://ss3.4sqi.net/img/categories_v2/food/vietnamese_",
                "suffix": ".png"
               },
               "id": "4bf58dd8d48988d14a941735",
               "name": "Vietnamese Restaurant",
               "pluralName": "Vietnamese Restaurants",
               "primary": true,
               "shortName": "Vietnamese"
              }
             ],
             "id": "4b735e50f964a5200dab2de3",
             "location": {
              "address": "2111, 33rd Ave SW",
              "cc": "CA",
              "city": "Calgary",
              "country": "Canada",
              "distance": 962,
              "formattedAddress": [
               "2111, 33rd Ave SW",
               "Calgary AB",
               "Canada"
              ],
              "labeledLatLngs": [
               {
                "label": "display",
                "lat": 51.023869751767954,
                "lng": -114.1101550631155
               }
              ],
              "lat": 51.023869751767954,
              "lng": -114.1101550631155,
              "state": "AB"
             },
             "name": "nho saigon",
             "photos": {
              "count": 0,
              "groups": []
             }
            }
           },
           {
            "reasons": {
             "count": 0,
             "items": [
              {
               "reasonName": "globalInteractionReason",
               "summary": "This spot is popular",
               "type": "general"
              }
             ]
            },
            "referralId": "e-0-4dd46b20ae60a78cec56f67c-6",
            "venue": {
             "categories": [
              {
               "icon": {
                "prefix": "https://ss3.4sqi.net/img/categories_v2/food/asian_",
                "suffix": ".png"
               },
               "id": "4bf58dd8d48988d145941735",
               "name": "Chinese Restaurant",
               "pluralName": "Chinese Restaurants",
               "primary": true,
               "shortName": "Chinese"
              }
             ],
             "id": "4dd46b20ae60a78cec56f67c",
             "location": {
              "address": "2024 33rd Avenue SW",
              "cc": "CA",
              "city": "Calgary",
              "country": "Canada",
              "distance": 938,
              "formattedAddress": [
               "2024 33rd Avenue SW",
               "Calgary AB",
               "Canada"
              ],
              "labeledLatLngs": [
               {
                "label": "display",
                "lat": 51.024023,
                "lng": -114.108569
               }
              ],
              "lat": 51.024023,
              "lng": -114.108569,
              "state": "AB"
             },
             "name": "Dragon Gate Restaurant",
             "photos": {
              "count": 0,
              "groups": []
             }
            }
           },
           {
            "reasons": {
             "count": 0,
             "items": [
              {
               "reasonName": "globalInteractionReason",
               "summary": "This spot is popular",
               "type": "general"
              }
             ]
            },
            "referralId": "e-0-4c0d5650336220a19192ca77-7",
            "venue": {
             "categories": [
              {
               "icon": {
                "prefix": "https://ss3.4sqi.net/img/categories_v2/food/deli_",
                "suffix": ".png"
               },
               "id": "4bf58dd8d48988d1c5941735",
               "name": "Sandwich Place",
               "pluralName": "Sandwich Places",
               "primary": true,
               "shortName": "Sandwiches"
              }
             ],
             "id": "4c0d5650336220a19192ca77",
             "location": {
              "address": "2105 33rd Ave SW",
              "cc": "CA",
              "city": "Calgary",
              "country": "Canada",
              "distance": 952,
              "formattedAddress": [
               "2105 33rd Ave SW",
               "Calgary AB T2T 1Z7",
               "Canada"
              ],
              "labeledLatLngs": [
               {
                "label": "display",
                "lat": 51.02383511310923,
                "lng": -114.109947271755
               }
              ],
              "lat": 51.02383511310923,
              "lng": -114.109947271755,
              "postalCode": "T2T 1Z7",
              "state": "AB"
             },
             "name": "Subway",
             "photos": {
              "count": 0,
              "groups": []
             }
            }
           },
           {
            "reasons": {
             "count": 0,
             "items": [
              {
               "reasonName": "globalInteractionReason",
               "summary": "This spot is popular",
               "type": "general"
              }
             ]
            },
            "referralId": "e-0-4b60f88bf964a52011042ae3-8",
            "venue": {
             "categories": [
              {
               "icon": {
                "prefix": "https://ss3.4sqi.net/img/categories_v2/food/deli_",
                "suffix": ".png"
               },
               "id": "4bf58dd8d48988d1c5941735",
               "name": "Sandwich Place",
               "pluralName": "Sandwich Places",
               "primary": true,
               "shortName": "Sandwiches"
              }
             ],
             "id": "4b60f88bf964a52011042ae3",
             "location": {
              "address": "#3, 2008 33 Ave. SW",
              "cc": "CA",
              "city": "Calgary",
              "country": "Canada",
              "crossStreet": "at 19 St.",
              "distance": 924,
              "formattedAddress": [
               "#3, 2008 33 Ave. SW (at 19 St.)",
               "Calgary AB T2T 1Z4",
               "Canada"
              ],
              "labeledLatLngs": [
               {
                "label": "display",
                "lat": 51.02412290202764,
                "lng": -114.10721219355915
               }
              ],
              "lat": 51.02412290202764,
              "lng": -114.10721219355915,
              "postalCode": "T2T 1Z4",
              "state": "AB"
             },
             "name": "Avenue Deli",
             "photos": {
              "count": 0,
              "groups": []
             }
            }
           },
           {
            "reasons": {
             "count": 0,
             "items": [
              {
               "reasonName": "globalInteractionReason",
               "summary": "This spot is popular",
               "type": "general"
              }
             ]
            },
            "referralId": "e-0-4b630408f964a520ca5d2ae3-9",
            "venue": {
             "categories": [
              {
               "icon": {
                "prefix": "https://ss3.4sqi.net/img/categories_v2/food/sushi_",
                "suffix": ".png"
               },
               "id": "4bf58dd8d48988d1d2941735",
               "name": "Sushi Restaurant",
               "pluralName": "Sushi Restaurants",
               "primary": true,
               "shortName": "Sushi"
              }
             ],
             "id": "4b630408f964a520ca5d2ae3",
             "location": {
              "address": "1-2009 33 Avenue Southwest",
              "cc": "CA",
              "city": "Calgary",
              "country": "Canada",
              "crossStreet": "19th Street",
              "distance": 894,
              "formattedAddress": [
               "1-2009 33 Avenue Southwest (19th Street)",
               "Calgary AB",
               "Canada"
              ],
              "labeledLatLngs": [
               {
                "label": "display",
                "lat": 51.023797,
                "lng": -114.107587
               }
              ],
              "lat": 51.023797,
              "lng": -114.107587,
              "state": "AB"
             },
             "name": "Globefish Sushi & Izakaya",
             "photos": {
              "count": 0,
              "groups": []
             }
            }
           },
           {
            "reasons": {
             "count": 0,
             "items": [
              {
               "reasonName": "globalInteractionReason",
               "summary": "This spot is popular",
               "type": "general"
              }
             ]
            },
            "referralId": "e-0-4c925841ae45224b2e7def97-10",
            "venue": {
             "categories": [
              {
               "icon": {
                "prefix": "https://ss3.4sqi.net/img/categories_v2/food/breakfast_",
                "suffix": ".png"
               },
               "id": "4bf58dd8d48988d143941735",
               "name": "Breakfast Spot",
               "pluralName": "Breakfast Spots",
               "primary": true,
               "shortName": "Breakfast"
              }
             ],
             "id": "4c925841ae45224b2e7def97",
             "location": {
              "cc": "CA",
              "country": "Canada",
              "distance": 904,
              "formattedAddress": [
               "Canada"
              ],
              "labeledLatLngs": [
               {
                "label": "display",
                "lat": 51.023816,
                "lng": -114.107998
               }
              ],
              "lat": 51.023816,
              "lng": -114.107998
             },
             "name": "In the Loop",
             "photos": {
              "count": 0,
              "groups": []
             }
            }
           },
           {
            "reasons": {
             "count": 0,
             "items": [
              {
               "reasonName": "globalInteractionReason",
               "summary": "This spot is popular",
               "type": "general"
              }
             ]
            },
            "referralId": "e-0-4b0cad9ff964a520e44023e3-11",
            "venue": {
             "categories": [
              {
               "icon": {
                "prefix": "https://ss3.4sqi.net/img/categories_v2/food/sushi_",
                "suffix": ".png"
               },
               "id": "4bf58dd8d48988d1d2941735",
               "name": "Sushi Restaurant",
               "pluralName": "Sushi Restaurants",
               "primary": true,
               "shortName": "Sushi"
              }
             ],
             "id": "4b0cad9ff964a520e44023e3",
             "location": {
              "address": "#17 2008 33 Avenue SW",
              "cc": "CA",
              "city": "Calgary",
              "country": "Canada",
              "crossStreet": "19th Street SW",
              "distance": 928,
              "formattedAddress": [
               "#17 2008 33 Avenue SW (19th Street SW)",
               "Calgary AB",
               "Canada"
              ],
              "labeledLatLngs": [
               {
                "label": "display",
                "lat": 51.024102,
                "lng": -114.1076205692735
               }
              ],
              "lat": 51.024102,
              "lng": -114.1076205692735,
              "state": "AB"
             },
             "name": "El's Japanese Fusion",
             "photos": {
              "count": 0,
              "groups": []
             }
            }
           }
          ],
          "name": "recommended",
          "type": "Recommended Places"
         }
        ],
        "headerFullLocation": "Altadore, Calgary",
        "headerLocation": "Altadore",
        "headerLocationGranularity": "neighborhood",
        "query": "food",
        "suggestedBounds": {
         "ne": {
          "lat": 51.025007009000014,
          "lng": -114.09015861909933
         },
         "sw": {
          "lat": 51.00700699099999,
          "lng": -114.11871738090068
         }
        },
        "totalResults": 12
       }
      },
      "text/plain": [
       "<IPython.core.display.JSON object>"
      ]
     },
     "execution_count": 3,
     "metadata": {
      "application/json": {
       "expanded": false,
       "root": "root"
      }
     },
     "output_type": "execute_result"
    }
   ],
   "source": [
    "url_FS = 'https://api.foursquare.com/v2/venues/explore?client_id=UWJ5FNNWUM2ID3KT3II3QD55XXHSF0FEXLINGPV3K5LQZSQQ&client_secret=LWBMU4Z3ANKEWKEHUIE2TQABQV234S1WB3K2JYAHV2LNXVYL&v=20201231&ll=51.016007, -114.104438&radius=1000&sortByPopularity=1&categoryId=4d4b7105d754a06374d81259,4bf58dd8d48988d1e0931735'\n",
    "FS = get_api(url_FS)\n",
    "JSON(FS)"
   ]
  },
  {
   "cell_type": "code",
   "execution_count": 4,
   "metadata": {},
   "outputs": [
    {
     "data": {
      "text/html": [
       "<div>\n",
       "<style scoped>\n",
       "    .dataframe tbody tr th:only-of-type {\n",
       "        vertical-align: middle;\n",
       "    }\n",
       "\n",
       "    .dataframe tbody tr th {\n",
       "        vertical-align: top;\n",
       "    }\n",
       "\n",
       "    .dataframe thead th {\n",
       "        text-align: right;\n",
       "    }\n",
       "</style>\n",
       "<table border=\"1\" class=\"dataframe\">\n",
       "  <thead>\n",
       "    <tr style=\"text-align: right;\">\n",
       "      <th></th>\n",
       "      <th>reasons.count</th>\n",
       "      <th>reasons.items</th>\n",
       "      <th>venue.id</th>\n",
       "      <th>venue.name</th>\n",
       "      <th>venue.location.address</th>\n",
       "      <th>venue.location.lat</th>\n",
       "      <th>venue.location.lng</th>\n",
       "      <th>venue.location.labeledLatLngs</th>\n",
       "      <th>venue.location.distance</th>\n",
       "      <th>venue.location.postalCode</th>\n",
       "      <th>venue.location.cc</th>\n",
       "      <th>venue.location.city</th>\n",
       "      <th>venue.location.state</th>\n",
       "      <th>venue.location.country</th>\n",
       "      <th>venue.location.formattedAddress</th>\n",
       "      <th>venue.categories</th>\n",
       "      <th>venue.photos.count</th>\n",
       "      <th>venue.photos.groups</th>\n",
       "      <th>venue.location.crossStreet</th>\n",
       "    </tr>\n",
       "  </thead>\n",
       "  <tbody>\n",
       "  </tbody>\n",
       "</table>\n",
       "</div>"
      ],
      "text/plain": [
       "Empty DataFrame\n",
       "Columns: [reasons.count, reasons.items, venue.id, venue.name, venue.location.address, venue.location.lat, venue.location.lng, venue.location.labeledLatLngs, venue.location.distance, venue.location.postalCode, venue.location.cc, venue.location.city, venue.location.state, venue.location.country, venue.location.formattedAddress, venue.categories, venue.photos.count, venue.photos.groups, venue.location.crossStreet]\n",
       "Index: []"
      ]
     },
     "execution_count": 4,
     "metadata": {},
     "output_type": "execute_result"
    }
   ],
   "source": [
    "dfFS = pd.DataFrame(FS['response']['groups'][0]['items'])\n",
    "pd.json_normalize(FS['response']['groups'][0]['items']).drop(columns='referralId').head(0)\n",
    "#remove additional columns"
   ]
  },
  {
   "cell_type": "code",
   "execution_count": 5,
   "metadata": {},
   "outputs": [],
   "source": [
    "FS_rows=[]\n",
    "\n",
    "for row in FS['response']['groups'][0]['items']:\n",
    "    venue = row['venue']\n",
    "    venue_name = venue['name']\n",
    "    category = venue['categories'][0]\n",
    "    category_name = category['name']\n",
    "    venue_id = venue['id']\n",
    "    #add more if needed\n",
    "    url_rating = f'https://api.foursquare.com/v2/venues/{venue_id}?client_id=UWJ5FNNWUM2ID3KT3II3QD55XXHSF0FEXLINGPV3K5LQZSQQ&client_secret=LWBMU4Z3ANKEWKEHUIE2TQABQV234S1WB3K2JYAHV2LNXVYL&v=20201231'\n",
    "    rating = get_api(url_rating)\n",
    "    if 'rating' in rating['response']['venue']:\n",
    "        rating = rating['response']['venue']['rating']\n",
    "    else:\n",
    "        rating = None\n",
    "    FS_rows.append({'venue':venue_name,'category_name':category_name, 'venue_id':venue_id, 'rating':rating})"
   ]
  },
  {
   "cell_type": "code",
   "execution_count": 6,
   "metadata": {},
   "outputs": [
    {
     "data": {
      "text/html": [
       "<div>\n",
       "<style scoped>\n",
       "    .dataframe tbody tr th:only-of-type {\n",
       "        vertical-align: middle;\n",
       "    }\n",
       "\n",
       "    .dataframe tbody tr th {\n",
       "        vertical-align: top;\n",
       "    }\n",
       "\n",
       "    .dataframe thead th {\n",
       "        text-align: right;\n",
       "    }\n",
       "</style>\n",
       "<table border=\"1\" class=\"dataframe\">\n",
       "  <thead>\n",
       "    <tr style=\"text-align: right;\">\n",
       "      <th></th>\n",
       "      <th>venue</th>\n",
       "      <th>category_name</th>\n",
       "      <th>venue_id</th>\n",
       "      <th>rating</th>\n",
       "      <th>Source</th>\n",
       "    </tr>\n",
       "  </thead>\n",
       "  <tbody>\n",
       "    <tr>\n",
       "      <th>0</th>\n",
       "      <td>Original Joe's Restaurant &amp; Bar</td>\n",
       "      <td>Restaurant</td>\n",
       "      <td>4b0586e8f964a520567422e3</td>\n",
       "      <td>7.7</td>\n",
       "      <td>FS</td>\n",
       "    </tr>\n",
       "    <tr>\n",
       "      <th>8</th>\n",
       "      <td>Avenue Deli</td>\n",
       "      <td>Sandwich Place</td>\n",
       "      <td>4b60f88bf964a52011042ae3</td>\n",
       "      <td>7.7</td>\n",
       "      <td>FS</td>\n",
       "    </tr>\n",
       "    <tr>\n",
       "      <th>5</th>\n",
       "      <td>nho saigon</td>\n",
       "      <td>Vietnamese Restaurant</td>\n",
       "      <td>4b735e50f964a5200dab2de3</td>\n",
       "      <td>7.5</td>\n",
       "      <td>FS</td>\n",
       "    </tr>\n",
       "    <tr>\n",
       "      <th>2</th>\n",
       "      <td>Globefish</td>\n",
       "      <td>Sushi Restaurant</td>\n",
       "      <td>4bdcc1dcc79cc9287a0388e9</td>\n",
       "      <td>7.4</td>\n",
       "      <td>FS</td>\n",
       "    </tr>\n",
       "    <tr>\n",
       "      <th>3</th>\n",
       "      <td>Belmont Diner</td>\n",
       "      <td>Breakfast Spot</td>\n",
       "      <td>540b2114498e7fb901fb131a</td>\n",
       "      <td>7.4</td>\n",
       "      <td>FS</td>\n",
       "    </tr>\n",
       "    <tr>\n",
       "      <th>7</th>\n",
       "      <td>Subway</td>\n",
       "      <td>Sandwich Place</td>\n",
       "      <td>4c0d5650336220a19192ca77</td>\n",
       "      <td>6.3</td>\n",
       "      <td>FS</td>\n",
       "    </tr>\n",
       "    <tr>\n",
       "      <th>1</th>\n",
       "      <td>Boogies Burgers</td>\n",
       "      <td>Burger Joint</td>\n",
       "      <td>596bb0569cadd94f2c5a975e</td>\n",
       "      <td>NaN</td>\n",
       "      <td>FS</td>\n",
       "    </tr>\n",
       "    <tr>\n",
       "      <th>4</th>\n",
       "      <td>Pegasus Restaurant</td>\n",
       "      <td>Greek Restaurant</td>\n",
       "      <td>4e2192a962e1964dbb6813db</td>\n",
       "      <td>NaN</td>\n",
       "      <td>FS</td>\n",
       "    </tr>\n",
       "    <tr>\n",
       "      <th>6</th>\n",
       "      <td>Dragon Gate Restaurant</td>\n",
       "      <td>Chinese Restaurant</td>\n",
       "      <td>4dd46b20ae60a78cec56f67c</td>\n",
       "      <td>NaN</td>\n",
       "      <td>FS</td>\n",
       "    </tr>\n",
       "    <tr>\n",
       "      <th>9</th>\n",
       "      <td>Globefish Sushi &amp; Izakaya</td>\n",
       "      <td>Sushi Restaurant</td>\n",
       "      <td>4b630408f964a520ca5d2ae3</td>\n",
       "      <td>NaN</td>\n",
       "      <td>FS</td>\n",
       "    </tr>\n",
       "  </tbody>\n",
       "</table>\n",
       "</div>"
      ],
      "text/plain": [
       "                             venue          category_name  \\\n",
       "0  Original Joe's Restaurant & Bar             Restaurant   \n",
       "8                      Avenue Deli         Sandwich Place   \n",
       "5                       nho saigon  Vietnamese Restaurant   \n",
       "2                        Globefish       Sushi Restaurant   \n",
       "3                    Belmont Diner         Breakfast Spot   \n",
       "7                           Subway         Sandwich Place   \n",
       "1                  Boogies Burgers           Burger Joint   \n",
       "4               Pegasus Restaurant       Greek Restaurant   \n",
       "6           Dragon Gate Restaurant     Chinese Restaurant   \n",
       "9        Globefish Sushi & Izakaya       Sushi Restaurant   \n",
       "\n",
       "                   venue_id  rating Source  \n",
       "0  4b0586e8f964a520567422e3     7.7     FS  \n",
       "8  4b60f88bf964a52011042ae3     7.7     FS  \n",
       "5  4b735e50f964a5200dab2de3     7.5     FS  \n",
       "2  4bdcc1dcc79cc9287a0388e9     7.4     FS  \n",
       "3  540b2114498e7fb901fb131a     7.4     FS  \n",
       "7  4c0d5650336220a19192ca77     6.3     FS  \n",
       "1  596bb0569cadd94f2c5a975e     NaN     FS  \n",
       "4  4e2192a962e1964dbb6813db     NaN     FS  \n",
       "6  4dd46b20ae60a78cec56f67c     NaN     FS  \n",
       "9  4b630408f964a520ca5d2ae3     NaN     FS  "
      ]
     },
     "execution_count": 6,
     "metadata": {},
     "output_type": "execute_result"
    }
   ],
   "source": [
    "dfFS = pd.DataFrame(FS_rows).sort_values('rating', ascending=False).head(10)\n",
    "dfFS['Source'] = 'FS'\n",
    "dfFS"
   ]
  },
  {
   "cell_type": "code",
   "execution_count": 7,
   "metadata": {},
   "outputs": [],
   "source": [
    "Yelp = 'C:/Users/stace/data_bootcamp/w2/d4-day_4/mini-project-II/Yelp_response.json'\n",
    "JSON(Yelp)\n",
    "with open(Yelp, 'r') as f:\n",
    "    text = f.read()\n",
    "Yelp_json = json.loads(text)"
   ]
  },
  {
   "cell_type": "code",
   "execution_count": 8,
   "metadata": {},
   "outputs": [
    {
     "data": {
      "text/html": [
       "<div>\n",
       "<style scoped>\n",
       "    .dataframe tbody tr th:only-of-type {\n",
       "        vertical-align: middle;\n",
       "    }\n",
       "\n",
       "    .dataframe tbody tr th {\n",
       "        vertical-align: top;\n",
       "    }\n",
       "\n",
       "    .dataframe thead th {\n",
       "        text-align: right;\n",
       "    }\n",
       "</style>\n",
       "<table border=\"1\" class=\"dataframe\">\n",
       "  <thead>\n",
       "    <tr style=\"text-align: right;\">\n",
       "      <th></th>\n",
       "      <th>venue</th>\n",
       "      <th>category_name</th>\n",
       "      <th>rating</th>\n",
       "      <th>Source</th>\n",
       "    </tr>\n",
       "  </thead>\n",
       "  <tbody>\n",
       "    <tr>\n",
       "      <th>4</th>\n",
       "      <td>Pacific Poke</td>\n",
       "      <td>Poke</td>\n",
       "      <td>5.0</td>\n",
       "      <td>Yelp</td>\n",
       "    </tr>\n",
       "    <tr>\n",
       "      <th>0</th>\n",
       "      <td>Monogram Coffee</td>\n",
       "      <td>Coffee &amp; Tea</td>\n",
       "      <td>4.5</td>\n",
       "      <td>Yelp</td>\n",
       "    </tr>\n",
       "    <tr>\n",
       "      <th>2</th>\n",
       "      <td>Village Ice Cream</td>\n",
       "      <td>Ice Cream &amp; Frozen Yogurt</td>\n",
       "      <td>4.5</td>\n",
       "      <td>Yelp</td>\n",
       "    </tr>\n",
       "    <tr>\n",
       "      <th>18</th>\n",
       "      <td>OPA! of Greece Marda Loop</td>\n",
       "      <td>Greek</td>\n",
       "      <td>4.5</td>\n",
       "      <td>Yelp</td>\n",
       "    </tr>\n",
       "    <tr>\n",
       "      <th>9</th>\n",
       "      <td>Master Chocolat</td>\n",
       "      <td>Chocolatiers &amp; Shops</td>\n",
       "      <td>4.5</td>\n",
       "      <td>Yelp</td>\n",
       "    </tr>\n",
       "    <tr>\n",
       "      <th>3</th>\n",
       "      <td>Belmont Diner</td>\n",
       "      <td>Diners</td>\n",
       "      <td>4.0</td>\n",
       "      <td>Yelp</td>\n",
       "    </tr>\n",
       "    <tr>\n",
       "      <th>5</th>\n",
       "      <td>Boogie's Burgers</td>\n",
       "      <td>Burgers</td>\n",
       "      <td>4.0</td>\n",
       "      <td>Yelp</td>\n",
       "    </tr>\n",
       "    <tr>\n",
       "      <th>7</th>\n",
       "      <td>El's Japanese Fusion</td>\n",
       "      <td>Sushi Bars</td>\n",
       "      <td>4.0</td>\n",
       "      <td>Yelp</td>\n",
       "    </tr>\n",
       "    <tr>\n",
       "      <th>8</th>\n",
       "      <td>Globefish Sushi &amp; Izakaya</td>\n",
       "      <td>Sushi Bars</td>\n",
       "      <td>4.0</td>\n",
       "      <td>Yelp</td>\n",
       "    </tr>\n",
       "    <tr>\n",
       "      <th>1</th>\n",
       "      <td>Phil &amp; Sebastian Coffee Roasters</td>\n",
       "      <td>Coffee &amp; Tea</td>\n",
       "      <td>4.0</td>\n",
       "      <td>Yelp</td>\n",
       "    </tr>\n",
       "    <tr>\n",
       "      <th>11</th>\n",
       "      <td>K-Thi Viet Cuisine</td>\n",
       "      <td>Vietnamese</td>\n",
       "      <td>4.0</td>\n",
       "      <td>Yelp</td>\n",
       "    </tr>\n",
       "    <tr>\n",
       "      <th>12</th>\n",
       "      <td>Pegasus</td>\n",
       "      <td>Greek</td>\n",
       "      <td>4.0</td>\n",
       "      <td>Yelp</td>\n",
       "    </tr>\n",
       "    <tr>\n",
       "      <th>13</th>\n",
       "      <td>Tres Marias Mexican Market</td>\n",
       "      <td>International Grocery</td>\n",
       "      <td>4.0</td>\n",
       "      <td>Yelp</td>\n",
       "    </tr>\n",
       "    <tr>\n",
       "      <th>14</th>\n",
       "      <td>The Garrison Pub</td>\n",
       "      <td>Pubs</td>\n",
       "      <td>3.5</td>\n",
       "      <td>Yelp</td>\n",
       "    </tr>\n",
       "    <tr>\n",
       "      <th>10</th>\n",
       "      <td>Nho Saigon</td>\n",
       "      <td>Vietnamese</td>\n",
       "      <td>3.5</td>\n",
       "      <td>Yelp</td>\n",
       "    </tr>\n",
       "    <tr>\n",
       "      <th>6</th>\n",
       "      <td>My Favorite Ice Cream Shoppe</td>\n",
       "      <td>Ice Cream &amp; Frozen Yogurt</td>\n",
       "      <td>3.5</td>\n",
       "      <td>Yelp</td>\n",
       "    </tr>\n",
       "    <tr>\n",
       "      <th>19</th>\n",
       "      <td>Bell's Bookstore Cafe</td>\n",
       "      <td>Coffee &amp; Tea</td>\n",
       "      <td>3.5</td>\n",
       "      <td>Yelp</td>\n",
       "    </tr>\n",
       "    <tr>\n",
       "      <th>15</th>\n",
       "      <td>The Trop Bar &amp; Grill</td>\n",
       "      <td>Pubs</td>\n",
       "      <td>3.0</td>\n",
       "      <td>Yelp</td>\n",
       "    </tr>\n",
       "    <tr>\n",
       "      <th>16</th>\n",
       "      <td>Merchants Restaurant &amp; Bar</td>\n",
       "      <td>Bars</td>\n",
       "      <td>3.0</td>\n",
       "      <td>Yelp</td>\n",
       "    </tr>\n",
       "    <tr>\n",
       "      <th>17</th>\n",
       "      <td>Original Joe's Restaurant &amp; Bar</td>\n",
       "      <td>Bars</td>\n",
       "      <td>3.0</td>\n",
       "      <td>Yelp</td>\n",
       "    </tr>\n",
       "  </tbody>\n",
       "</table>\n",
       "</div>"
      ],
      "text/plain": [
       "                               venue              category_name  rating Source\n",
       "4                       Pacific Poke                       Poke     5.0   Yelp\n",
       "0                    Monogram Coffee               Coffee & Tea     4.5   Yelp\n",
       "2                  Village Ice Cream  Ice Cream & Frozen Yogurt     4.5   Yelp\n",
       "18         OPA! of Greece Marda Loop                      Greek     4.5   Yelp\n",
       "9                    Master Chocolat       Chocolatiers & Shops     4.5   Yelp\n",
       "3                      Belmont Diner                     Diners     4.0   Yelp\n",
       "5                   Boogie's Burgers                    Burgers     4.0   Yelp\n",
       "7               El's Japanese Fusion                 Sushi Bars     4.0   Yelp\n",
       "8          Globefish Sushi & Izakaya                 Sushi Bars     4.0   Yelp\n",
       "1   Phil & Sebastian Coffee Roasters               Coffee & Tea     4.0   Yelp\n",
       "11                K-Thi Viet Cuisine                 Vietnamese     4.0   Yelp\n",
       "12                           Pegasus                      Greek     4.0   Yelp\n",
       "13        Tres Marias Mexican Market      International Grocery     4.0   Yelp\n",
       "14                  The Garrison Pub                       Pubs     3.5   Yelp\n",
       "10                        Nho Saigon                 Vietnamese     3.5   Yelp\n",
       "6       My Favorite Ice Cream Shoppe  Ice Cream & Frozen Yogurt     3.5   Yelp\n",
       "19             Bell's Bookstore Cafe               Coffee & Tea     3.5   Yelp\n",
       "15              The Trop Bar & Grill                       Pubs     3.0   Yelp\n",
       "16        Merchants Restaurant & Bar                       Bars     3.0   Yelp\n",
       "17   Original Joe's Restaurant & Bar                       Bars     3.0   Yelp"
      ]
     },
     "execution_count": 8,
     "metadata": {},
     "output_type": "execute_result"
    }
   ],
   "source": [
    "Yelp_rows=[]\n",
    "\n",
    "for row in Yelp_json['businesses']:\n",
    "    venue_name = row['name']\n",
    "    category = row['categories'][0]\n",
    "    category_name = category['title']\n",
    "    ratings = row['rating']\n",
    "    Yelp_rows.append({'venue':venue_name,'category_name':category_name, 'rating':ratings}) #add rating\n",
    "\n",
    "dfYelp = pd.DataFrame(Yelp_rows).sort_values('rating', ascending=False)\n",
    "dfYelp['Source'] = 'Yelp'\n",
    "dfYelp"
   ]
  },
  {
   "cell_type": "markdown",
   "metadata": {},
   "source": [
    "## Connect to SQLite3"
   ]
  },
  {
   "cell_type": "code",
   "execution_count": 9,
   "metadata": {},
   "outputs": [
    {
     "name": "stdout",
     "output_type": "stream",
     "text": [
      "Connection to SQLite DB successful\n"
     ]
    }
   ],
   "source": [
    "import sqlite3\n",
    "from sqlite3 import Error\n",
    "\n",
    "def create_connection(path):\n",
    "    connection = None\n",
    "    try:\n",
    "        connection = sqlite3.connect(path)\n",
    "        print(\"Connection to SQLite DB successful\")\n",
    "    except Error as e:\n",
    "        print(f\"The error '{e}' occurred\")\n",
    "\n",
    "    return connection\n",
    "connection1 = create_connection(\"Project.db\")\n",
    "cursor = connection1.cursor()"
   ]
  },
  {
   "cell_type": "code",
   "execution_count": 10,
   "metadata": {},
   "outputs": [
    {
     "data": {
      "text/plain": [
       "<sqlite3.Connection at 0x251166c7990>"
      ]
     },
     "execution_count": 10,
     "metadata": {},
     "output_type": "execute_result"
    }
   ],
   "source": [
    "connection1"
   ]
  },
  {
   "cell_type": "code",
   "execution_count": 11,
   "metadata": {},
   "outputs": [
    {
     "data": {
      "text/plain": [
       "[(0,\n",
       "  \"Original Joe's Restaurant & Bar\",\n",
       "  'Restaurant',\n",
       "  '4b0586e8f964a520567422e3',\n",
       "  7.7,\n",
       "  'FS'),\n",
       " (8, 'Avenue Deli', 'Sandwich Place', '4b60f88bf964a52011042ae3', 7.7, 'FS'),\n",
       " (5,\n",
       "  'nho saigon',\n",
       "  'Vietnamese Restaurant',\n",
       "  '4b735e50f964a5200dab2de3',\n",
       "  7.5,\n",
       "  'FS'),\n",
       " (2, 'Globefish', 'Sushi Restaurant', '4bdcc1dcc79cc9287a0388e9', 7.4, 'FS'),\n",
       " (3, 'Belmont Diner', 'Breakfast Spot', '540b2114498e7fb901fb131a', 7.4, 'FS'),\n",
       " (7, 'Subway', 'Sandwich Place', '4c0d5650336220a19192ca77', 6.3, 'FS'),\n",
       " (1,\n",
       "  'Boogies Burgers',\n",
       "  'Burger Joint',\n",
       "  '596bb0569cadd94f2c5a975e',\n",
       "  None,\n",
       "  'FS'),\n",
       " (4,\n",
       "  'Pegasus Restaurant',\n",
       "  'Greek Restaurant',\n",
       "  '4e2192a962e1964dbb6813db',\n",
       "  None,\n",
       "  'FS'),\n",
       " (6,\n",
       "  'Dragon Gate Restaurant',\n",
       "  'Chinese Restaurant',\n",
       "  '4dd46b20ae60a78cec56f67c',\n",
       "  None,\n",
       "  'FS'),\n",
       " (9,\n",
       "  'Globefish Sushi & Izakaya',\n",
       "  'Sushi Restaurant',\n",
       "  '4b630408f964a520ca5d2ae3',\n",
       "  None,\n",
       "  'FS')]"
      ]
     },
     "execution_count": 11,
     "metadata": {},
     "output_type": "execute_result"
    }
   ],
   "source": [
    "cursor.execute(\"DROP TABLE FS_SQL\")\n",
    "dfFS.to_sql('FS_SQL', con=connection1)\n",
    "connection1.execute('SELECT * FROM FS_SQL').fetchall()"
   ]
  },
  {
   "cell_type": "code",
   "execution_count": 12,
   "metadata": {},
   "outputs": [
    {
     "data": {
      "text/plain": [
       "[(4, 'Pacific Poke', 'Poke', 5.0, 'Yelp'),\n",
       " (0, 'Monogram Coffee', 'Coffee & Tea', 4.5, 'Yelp'),\n",
       " (2, 'Village Ice Cream', 'Ice Cream & Frozen Yogurt', 4.5, 'Yelp'),\n",
       " (18, 'OPA! of Greece Marda Loop', 'Greek', 4.5, 'Yelp'),\n",
       " (9, 'Master Chocolat', 'Chocolatiers & Shops', 4.5, 'Yelp'),\n",
       " (3, 'Belmont Diner', 'Diners', 4.0, 'Yelp'),\n",
       " (5, \"Boogie's Burgers\", 'Burgers', 4.0, 'Yelp'),\n",
       " (7, \"El's Japanese Fusion\", 'Sushi Bars', 4.0, 'Yelp'),\n",
       " (8, 'Globefish Sushi & Izakaya', 'Sushi Bars', 4.0, 'Yelp'),\n",
       " (1, 'Phil & Sebastian Coffee Roasters', 'Coffee & Tea', 4.0, 'Yelp'),\n",
       " (11, 'K-Thi Viet Cuisine', 'Vietnamese', 4.0, 'Yelp'),\n",
       " (12, 'Pegasus', 'Greek', 4.0, 'Yelp'),\n",
       " (13, 'Tres Marias Mexican Market', 'International Grocery', 4.0, 'Yelp'),\n",
       " (14, 'The Garrison Pub', 'Pubs', 3.5, 'Yelp'),\n",
       " (10, 'Nho Saigon', 'Vietnamese', 3.5, 'Yelp'),\n",
       " (6, 'My Favorite Ice Cream Shoppe', 'Ice Cream & Frozen Yogurt', 3.5, 'Yelp'),\n",
       " (19, \"Bell's Bookstore Cafe\", 'Coffee & Tea', 3.5, 'Yelp'),\n",
       " (15, 'The Trop Bar & Grill', 'Pubs', 3.0, 'Yelp'),\n",
       " (16, 'Merchants Restaurant & Bar', 'Bars', 3.0, 'Yelp'),\n",
       " (17, \"Original Joe's Restaurant & Bar\", 'Bars', 3.0, 'Yelp')]"
      ]
     },
     "execution_count": 12,
     "metadata": {},
     "output_type": "execute_result"
    }
   ],
   "source": [
    "cursor.execute(\"DROP TABLE Yelp_SQL\")\n",
    "dfYelp.to_sql('Yelp_SQL', con=connection1)\n",
    "connection1.execute('SELECT * FROM Yelp_SQL').fetchall()"
   ]
  },
  {
   "cell_type": "code",
   "execution_count": null,
   "metadata": {},
   "outputs": [],
   "source": []
  }
 ],
 "metadata": {
  "kernelspec": {
   "display_name": "Python 3",
   "language": "python",
   "name": "python3"
  },
  "language_info": {
   "codemirror_mode": {
    "name": "ipython",
    "version": 3
   },
   "file_extension": ".py",
   "mimetype": "text/x-python",
   "name": "python",
   "nbconvert_exporter": "python",
   "pygments_lexer": "ipython3",
   "version": "3.8.5"
  }
 },
 "nbformat": 4,
 "nbformat_minor": 4
}
